{
  "nbformat": 4,
  "nbformat_minor": 0,
  "metadata": {
    "colab": {
      "provenance": [],
      "mount_file_id": "1MAjwtJjy114KYYOnwSh2qbeVu4V0gAaJ",
      "authorship_tag": "ABX9TyOXTFUTA2q5VzhL4wAEaADH"
    },
    "kernelspec": {
      "name": "python3",
      "display_name": "Python 3"
    },
    "language_info": {
      "name": "python"
    }
  },
  "cells": [
    {
      "cell_type": "code",
      "metadata": {
        "colab": {
          "base_uri": "https://localhost:8080/"
        },
        "id": "nr6wayAoxC6H",
        "outputId": "9d4be52b-7020-4820-a346-1707782ff008"
      },
      "source": [
        "%matplotlib inline\n",
        "from pycocotools.coco import COCO\n",
        "import numpy as np\n",
        "import skimage.io as io\n",
        "import matplotlib.pyplot as plt\n",
        "import pylab\n",
        "pylab.rcParams['figure.figsize'] = (8.0, 10.0)\n",
        "\n",
        "annFile=f'/content/drive/MyDrive/instances_val2017.json'\n",
        "\n",
        "coco=COCO(annFile)"
      ],
      "execution_count": null,
      "outputs": [
        {
          "output_type": "stream",
          "name": "stdout",
          "text": [
            "loading annotations into memory...\n",
            "Done (t=2.25s)\n",
            "creating index...\n",
            "index created!\n"
          ]
        }
      ]
    },
    {
      "cell_type": "code",
      "metadata": {
        "id": "6UKWXvCRx-p9",
        "colab": {
          "base_uri": "https://localhost:8080/"
        },
        "outputId": "5fe1b45a-dd2b-4038-d767-5c25a7008282"
      },
      "source": [
        "import matplotlib.pyplot as plt\n",
        "import numpy as np\n",
        "import os\n",
        "import PIL\n",
        "import torch\n",
        "#model = torch.hub.load('pytorch/vision:v0.10.0', 'deeplabv3_resnet50', pretrained=True)\n",
        "import tensorflow as tf\n",
        "from torchvision.models.detection import maskrcnn_resnet50_fpn\n",
        "\n",
        "from tensorflow import keras\n",
        "from tensorflow.keras import layers\n",
        "from tensorflow.keras.models import Sequential\n",
        "\n",
        "model = maskrcnn_resnet50_fpn(pretrained=True, progress=False)\n",
        "model = model.eval()\n",
        "\n",
        "# model = torch.hub.load('pytorch/vision:v0.10.0', 'deeplabv3_resnet50', pretrained=True)\n",
        "# model = torch.hub.load('pytorch/vision:v0.10.0', 'deeplabv3_resnet101', pretrained=True)\n",
        "# model = torch.hub.load('pytorch/vision:v0.10.0', 'deeplabv3_mobilenet_v3_large', pretrained=True)"
      ],
      "execution_count": null,
      "outputs": [
        {
          "output_type": "stream",
          "name": "stderr",
          "text": [
            "Downloading: \"https://download.pytorch.org/models/maskrcnn_resnet50_fpn_coco-bf2d0c1e.pth\" to /root/.cache/torch/hub/checkpoints/maskrcnn_resnet50_fpn_coco-bf2d0c1e.pth\n"
          ]
        }
      ]
    },
    {
      "cell_type": "code",
      "metadata": {
        "id": "avV5d4fVzITp"
      },
      "source": [
        "inst_classes = [\n",
        "    '__background__', 'person', 'bicycle', 'car', 'motorcycle', 'airplane', 'bus',\n",
        "    'train', 'truck', 'boat', 'traffic light', 'fire hydrant', 'N/A', 'stop sign',\n",
        "    'parking meter', 'bench', 'bird', 'cat', 'dog', 'horse', 'sheep', 'cow',\n",
        "    'elephant', 'bear', 'zebra', 'giraffe', 'N/A', 'backpack', 'umbrella', 'N/A', 'N/A',\n",
        "    'handbag', 'tie', 'suitcase', 'frisbee', 'skis', 'snowboard', 'sports ball',\n",
        "    'kite', 'baseball bat', 'baseball glove', 'skateboard', 'surfboard', 'tennis racket',\n",
        "    'bottle', 'N/A', 'wine glass', 'cup', 'fork', 'knife', 'spoon', 'bowl',\n",
        "    'banana', 'apple', 'sandwich', 'orange', 'broccoli', 'carrot', 'hot dog', 'pizza',\n",
        "    'donut', 'cake', 'chair', 'couch', 'potted plant', 'bed', 'N/A', 'dining table',\n",
        "    'N/A', 'N/A', 'toilet', 'N/A', 'tv', 'laptop', 'mouse', 'remote', 'keyboard', 'cell phone',\n",
        "    'microwave', 'oven', 'toaster', 'sink', 'refrigerator', 'N/A', 'book',\n",
        "    'clock', 'vase', 'scissors', 'teddy bear', 'hair drier', 'toothbrush'\n",
        "]\n",
        "\n",
        "inst_class_to_idx = {cls: idx for (idx, cls) in enumerate(inst_classes)}"
      ],
      "execution_count": null,
      "outputs": []
    },
    {
      "cell_type": "code",
      "metadata": {
        "colab": {
          "base_uri": "https://localhost:8080/"
        },
        "id": "rBGWUB7GxK_3",
        "outputId": "bdff8392-4060-494f-93e8-8f7f8270faa8"
      },
      "source": [
        "from PIL import Image\n",
        "from torchvision import transforms\n",
        "import matplotlib.pyplot as plt\n",
        "\n",
        "preprocess = transforms.Compose([\n",
        "    transforms.ToTensor(),\n",
        "    transforms.Normalize(mean=[0.485, 0.456, 0.406], std=[0.229, 0.224, 0.225]),\n",
        "])\n",
        "\n",
        "# create a color pallette, selecting a color for each class\n",
        "palette = torch.tensor([2 ** 25 - 1, 2 ** 15 - 1, 2 ** 21 - 1])\n",
        "colors = torch.as_tensor([i for i in range(21)])[:, None] * palette\n",
        "colors = (colors % 255).numpy().astype(\"uint8\")\n",
        "\n",
        "# get all images containing given categories, select one at random\n",
        "catIds = coco.getCatIds(catNms=['person','dog','skateboard','elephant','cat']);\n",
        "imgIds = coco.getImgIds(catIds=catIds );\n",
        "numimages = len(imgIds)\n",
        "for i in range(15):\n",
        "  img = coco.loadImgs(imgIds[i])[0]\n",
        "  input_image = io.imread(img['coco_url'])\n",
        "  plt.imshow(input_image)\n",
        "  input_tensor = preprocess(input_image)\n",
        "  input_batch = input_tensor.unsqueeze(0) # create a mini-batch as expected by the model\n",
        "\n",
        "  # move the input and model to GPU for speed if available\n",
        "  if torch.cuda.is_available():\n",
        "      input_batch = input_batch.to('cuda')\n",
        "      model.to('cuda')\n",
        "\n",
        "  with torch.no_grad():\n",
        "      output = model(input_batch)\n",
        "\n",
        "  dog1_output = output[0]\n",
        "  dog1_masks = dog1_output['masks']\n",
        "\n",
        "  unique_labels = np.unique(output)\n",
        "  print(\"For the first dog, the following instances were detected:\")\n",
        "  print([inst_classes[label] for label in dog1_output['labels']])\n",
        "\n",
        "  i += 1\n",
        ""
      ],
      "execution_count": null,
      "outputs": [
        {
          "output_type": "stream",
          "name": "stdout",
          "text": [
            "['person', 'bowl', 'dining table', 'cup', 'cup', 'bottle', 'umbrella', 'handbag', 'person', 'car', 'sink', 'bottle', 'car']\n",
            "['traffic light', 'traffic light', 'car', 'car', 'tv', 'car', 'car', 'surfboard', 'parking meter']\n",
            "['car', 'car', 'car', 'traffic light', 'parking meter', 'car', 'car', 'person', 'car', 'traffic light']\n",
            "['person', 'bench', 'person', 'car', 'car', 'car', 'car', 'bench', 'person', 'car', 'car', 'car', 'car', 'car', 'car', 'car', 'bench', 'parking meter', 'car', 'car', 'person', 'person', 'car']\n",
            "['car', 'car', 'car', 'car', 'car', 'car', 'car', 'car', 'car', 'bottle', 'traffic light', 'car']\n",
            "['car', 'chair', 'toilet', 'cell phone', 'car', 'refrigerator', 'tv']\n",
            "['toilet', 'car', 'clock', 'car', 'car', 'truck', 'truck', 'car', 'cell phone', 'tv', 'frisbee', 'oven', 'parking meter', 'bus', 'tv', 'motorcycle', 'traffic light', 'person', 'car']\n",
            "['car', 'car', 'car', 'car', 'bottle', 'skateboard']\n",
            "['car', 'tv', 'car', 'car', 'tv', 'bench', 'bus', 'car', 'tv', 'car', 'truck', 'bench', 'person', 'car', 'refrigerator', 'oven', 'car', 'car', 'car', 'chair', 'oven', 'person', 'car']\n",
            "['traffic light', 'traffic light', 'car', 'potted plant', 'oven', 'vase', 'person', 'car', 'parking meter', 'traffic light', 'suitcase', 'tv', 'bottle', 'person', 'parking meter', 'potted plant', 'parking meter', 'oven', 'refrigerator', 'bus', 'car', 'truck', 'truck', 'suitcase', 'parking meter', 'car']\n",
            "['car', 'person', 'bottle', 'bench', 'parking meter', 'car', 'person', 'dining table', 'traffic light', 'bottle', 'person', 'car', 'car', 'car', 'car', 'car', 'dining table', 'cup', 'car']\n",
            "['person', 'oven', 'car', 'person', 'refrigerator', 'car', 'person', 'dining table', 'parking meter', 'car', 'sink', 'car', 'person', 'person', 'tv', 'car']\n",
            "['car', 'traffic light', 'bottle', 'car']\n",
            "['tv', 'oven', 'person', 'person', 'bed', 'parking meter', 'car', 'tv', 'bird', 'suitcase', 'person', 'car', 'person', 'chair', 'refrigerator', 'tv', 'person', 'person', 'car', 'couch', 'person', 'bottle']\n",
            "['traffic light', 'bowl', 'sports ball', 'clock', 'car', 'sink', 'bowl', 'bowl', 'car', 'parking meter', 'car', 'spoon', 'car', 'car', 'car', 'motorcycle', 'motorcycle', 'wine glass', 'bicycle', 'motorcycle', 'motorcycle', 'bottle']\n"
          ]
        }
      ]
    }
  ]
}